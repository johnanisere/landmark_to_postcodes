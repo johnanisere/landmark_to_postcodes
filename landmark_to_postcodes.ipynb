{
 "cells": [
  {
   "cell_type": "code",
   "execution_count": null,
   "metadata": {},
   "outputs": [],
   "source": [
    "pip install openlocationcode"
   ]
  },
  {
   "cell_type": "code",
   "execution_count": null,
   "metadata": {},
   "outputs": [],
   "source": [
    "import pandas as pd\n",
    "import requests\n",
    "from openlocationcode import openlocationcode as olc"
   ]
  },
  {
   "cell_type": "code",
   "execution_count": null,
   "metadata": {},
   "outputs": [],
   "source": [
    "\"\"\"file location\"\"\"\n",
    "csv_file = '' \n",
    "\n",
    "df = pd.read_csv(csv_file)\n",
    "df[[\"address\",\"landmark\"]].head()"
   ]
  },
  {
   "cell_type": "code",
   "execution_count": null,
   "metadata": {},
   "outputs": [],
   "source": [
    "address = df[\"address\"].to_list()\n",
    "landmark = df[\"landmark\"].to_list()"
   ]
  },
  {
   "cell_type": "code",
   "execution_count": null,
   "metadata": {},
   "outputs": [],
   "source": []
  },
  {
   "cell_type": "code",
   "execution_count": null,
   "metadata": {},
   "outputs": [],
   "source": [
    "\"Your google api key should go here\"\n",
    "\n",
    "google_api_key = \"\""
   ]
  },
  {
   "cell_type": "code",
   "execution_count": null,
   "metadata": {
    "scrolled": true
   },
   "outputs": [],
   "source": [
    "def get_postcode(address,num,length):\n",
    "    \"\"\"\n",
    "        Calculates the postcode.It first makes an API call to get the latitude and longitude of the address \n",
    "        and then calculates the postcodes\n",
    "        \n",
    "        :param address -string: the location to calculate its postcode\n",
    "        :return -string: the calculated postcode\n",
    "    \"\"\"\n",
    "    payload = {'address': address,'key':google_api_key}\n",
    "    r = requests.get('https://maps.googleapis.com/maps/api/geocode/json', params=payload)\n",
    "    status = r.json().get('status')\n",
    "    response = r.json().get(\"results\")\n",
    "    \n",
    "    if num == length-1:\n",
    "        print(\"!\")\n",
    "        print(\"Completed\")\n",
    "    else:\n",
    "        print(\"-\",end=\"\")\n",
    "        \n",
    "    if status == 'OK':\n",
    "        td = response[0].get('geometry').get('location')\n",
    "        return olc.encode(td['lat'], td['lng'])\n",
    "    else:\n",
    "        return \"\""
   ]
  },
  {
   "cell_type": "code",
   "execution_count": null,
   "metadata": {},
   "outputs": [],
   "source": [
    "\"\"\"Compute postcodes\"\"\"\n",
    "\n",
    "postcodes = []\n",
    "\n",
    "payload = landmark\n",
    "\n",
    "for num,address in enumerate(payload):\n",
    "    postcodes.append(get_postcode(address,num,len(payload)))\n",
    "    "
   ]
  },
  {
   "cell_type": "code",
   "execution_count": null,
   "metadata": {},
   "outputs": [],
   "source": [
    "post_codes_df = pd.DataFrame(postcodes,columns=[\"postcode\"])"
   ]
  },
  {
   "cell_type": "code",
   "execution_count": null,
   "metadata": {},
   "outputs": [],
   "source": [
    "post_codes_df.head()"
   ]
  },
  {
   "cell_type": "code",
   "execution_count": null,
   "metadata": {},
   "outputs": [],
   "source": [
    "if 'postcode' not in df.columns:\n",
    "    df = df.join(post_codes_df)"
   ]
  },
  {
   "cell_type": "code",
   "execution_count": null,
   "metadata": {},
   "outputs": [],
   "source": [
    "file = df.to_csv()\n",
    "\n",
    "\"\"\"Your csv file will be saved here\"\"\"\n",
    "\n",
    "completeName = \"atms_postcodes.csv\" \n",
    "with open(completeName, \"w\") as file1:\n",
    "    file1.write(file)\n",
    "\n"
   ]
  },
  {
   "cell_type": "code",
   "execution_count": null,
   "metadata": {},
   "outputs": [],
   "source": []
  }
 ],
 "metadata": {
  "kernelspec": {
   "display_name": "Python 3",
   "language": "python",
   "name": "python3"
  },
  "language_info": {
   "codemirror_mode": {
    "name": "ipython",
    "version": 3
   },
   "file_extension": ".py",
   "mimetype": "text/x-python",
   "name": "python",
   "nbconvert_exporter": "python",
   "pygments_lexer": "ipython3",
   "version": "3.7.4"
  },
  "widgets": {
   "application/vnd.jupyter.widget-state+json": {
    "state": {},
    "version_major": 2,
    "version_minor": 0
   }
  }
 },
 "nbformat": 4,
 "nbformat_minor": 2
}
